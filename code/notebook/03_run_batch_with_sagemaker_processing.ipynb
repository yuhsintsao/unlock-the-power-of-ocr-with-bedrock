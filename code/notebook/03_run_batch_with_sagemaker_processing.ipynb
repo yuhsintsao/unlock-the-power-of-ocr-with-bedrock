{
 "cells": [
  {
   "cell_type": "code",
   "execution_count": null,
   "id": "5fbd5f6f-184f-446e-80ab-fefee0eabf7e",
   "metadata": {
    "collapsed": true,
    "jupyter": {
     "outputs_hidden": true
    },
    "tags": []
   },
   "outputs": [],
   "source": [
    "!pip install jinja2 pdfplumber boto3==1.34.131"
   ]
  },
  {
   "cell_type": "code",
   "execution_count": null,
   "id": "cd936540",
   "metadata": {},
   "outputs": [],
   "source": [
    "import sys\n",
    "import os\n",
    "\n",
    "# Specify the new package root directory\n",
    "new_package_root = \"../\"\n",
    "\n",
    "# Add the new package root to the system path\n",
    "sys.path.insert(0, os.path.abspath(new_package_root))"
   ]
  },
  {
   "cell_type": "code",
   "execution_count": null,
   "id": "4a90fa22-841c-4011-9029-ea34e1d91b31",
   "metadata": {
    "tags": []
   },
   "outputs": [],
   "source": [
    "from jinja2 import Environment, FileSystemLoader\n",
    "import pdfplumber\n",
    "from src.utils import *\n",
    "\n",
    "bedrock_client = boto3.client(service_name='bedrock-runtime')"
   ]
  },
  {
   "cell_type": "code",
   "execution_count": null,
   "id": "47fe2de0-9321-4c4e-b589-bc5e9e0140bf",
   "metadata": {
    "tags": []
   },
   "outputs": [],
   "source": [
    "# Specify the directory where the template file is located\n",
    "template_dir = '../src'\n",
    "\n",
    "# Create a Jinja environment with the FileSystemLoader\n",
    "env = Environment(loader=FileSystemLoader(template_dir))\n",
    "\n",
    "# Load the template file\n",
    "system_prompt_template = env.get_template('template/system_prompt_template.jinja')\n",
    "user_prompt_pre_template = env.get_template('template/user_prompt_pre_template.jinja')\n",
    "user_prompt_post_template = env.get_template('template/user_prompt_post_template.jinja')"
   ]
  },
  {
   "cell_type": "code",
   "execution_count": null,
   "id": "d5115b0f-c67f-47cf-905b-2a96c6767381",
   "metadata": {
    "tags": []
   },
   "outputs": [],
   "source": [
    "document = \"<Your PDF data path goes here>\"\n",
    "pdf_obj = pdfplumber.open(document)"
   ]
  },
  {
   "cell_type": "code",
   "execution_count": null,
   "id": "6f172156-46e5-46f7-823c-43d142db4643",
   "metadata": {
    "collapsed": true,
    "jupyter": {
     "outputs_hidden": true
    },
    "tags": []
   },
   "outputs": [],
   "source": [
    "for idx, page in enumerate(pdf_obj.pages[:3]):\n",
    "\n",
    "    # Prepare prompts\n",
    "    PDF_TEXT = page.extract_text(\n",
    "        layout=True, \n",
    "    )\n",
    "\n",
    "    system_text = system_prompt_template.render()\n",
    "    input_text_pre = user_prompt_pre_template.render(PDF_TEXT=PDF_TEXT, FILENAME=document, PAGE_NUMBER=idx)\n",
    "    input_text_post =user_prompt_post_template.render()\n",
    "\n",
    "    suitable_image_size = find_suitable_image_size(page)\n",
    "\n",
    "    input_image = './output_image.png'\n",
    "\n",
    "    model_id = \"anthropic.claude-3-5-sonnet-20240620-v1:0\"\n",
    "\n",
    "    response = generate_conversation(\n",
    "        bedrock_client,\n",
    "        model_id,\n",
    "        system_text,\n",
    "        input_text_pre,\n",
    "        input_text_post,\n",
    "        input_image\n",
    "    )\n",
    "\n",
    "    print(response['output']['message']['content'][0]['text'])\n",
    "    print(\"\\n\\n ########################## \\n\\n\")"
   ]
  },
  {
   "cell_type": "code",
   "execution_count": null,
   "id": "60dbb028",
   "metadata": {},
   "outputs": [],
   "source": [
    "### SageMaker Processing Job"
   ]
  },
  {
   "cell_type": "code",
   "execution_count": null,
   "id": "5176ea0e-c64c-43c4-94bd-ed3c470f0d10",
   "metadata": {
    "tags": []
   },
   "outputs": [],
   "source": [
    "%%writefile ../docker/Dockerfile\n",
    "\n",
    "FROM python:3.10-slim\n",
    "RUN pip3 install boto3==1.34.131 pdfplumber==0.11.2 Jinja2==3.1.4 asyncio\n",
    "\n",
    "ENTRYPOINT [\"python3\"]"
   ]
  },
  {
   "cell_type": "code",
   "execution_count": null,
   "id": "1fa1ff67-b3b3-41a7-b799-569ee0bcdbbb",
   "metadata": {
    "tags": []
   },
   "outputs": [],
   "source": [
    "import boto3\n",
    "\n",
    "account_id = boto3.client('sts').get_caller_identity().get('Account')\n",
    "region = boto3.Session().region_name\n",
    "ecr_repository = 'sagemaker-processing-async-custom-container'\n",
    "tag = ':latest'\n",
    "processing_repository_uri = '{}.dkr.ecr.{}.amazonaws.com/{}'.format(account_id, region, ecr_repository + tag)"
   ]
  },
  {
   "cell_type": "code",
   "execution_count": null,
   "id": "f90fc1a1-3b84-48a0-936b-37326b88c96b",
   "metadata": {
    "collapsed": true,
    "jupyter": {
     "outputs_hidden": true
    },
    "tags": []
   },
   "outputs": [],
   "source": [
    "# # If inside SageMaker Studio Notebook\n",
    "# !cd ../docker && docker build --network sagemaker -t {ecr_repository + tag} .\n",
    "!cd ../docker && docker build -t {ecr_repository + tag} ."
   ]
  },
  {
   "cell_type": "code",
   "execution_count": null,
   "id": "878d7c58-e2d7-4ffa-827d-6870deee21c1",
   "metadata": {
    "tags": []
   },
   "outputs": [],
   "source": [
    "!aws ecr get-login-password --region {region} | docker login --username AWS --password-stdin {account_id}.dkr.ecr.{region}.amazonaws.com"
   ]
  },
  {
   "cell_type": "code",
   "execution_count": null,
   "id": "440d3238-930a-4e92-bffb-8bfa9f919e11",
   "metadata": {
    "tags": []
   },
   "outputs": [],
   "source": [
    "!aws ecr create-repository --repository-name $ecr_repository"
   ]
  },
  {
   "cell_type": "code",
   "execution_count": null,
   "id": "0e7cf80b-b394-4c24-9d93-e86e10d3ceee",
   "metadata": {
    "tags": []
   },
   "outputs": [],
   "source": [
    "!docker tag {ecr_repository + tag} $processing_repository_uri"
   ]
  },
  {
   "cell_type": "code",
   "execution_count": null,
   "id": "b7b2788c-d062-428f-9b9b-845a3a0b5a29",
   "metadata": {
    "tags": []
   },
   "outputs": [],
   "source": [
    "!docker push $processing_repository_uri"
   ]
  },
  {
   "cell_type": "code",
   "execution_count": null,
   "id": "58c94ca1",
   "metadata": {
    "tags": []
   },
   "outputs": [],
   "source": [
    "# # If inside SageMaker Studio Notebook\n",
    "# !docker run --network sagemaker --rm $processing_repository_uri\n",
    "!docker run --rm $processing_repository_uri"
   ]
  },
  {
   "cell_type": "code",
   "execution_count": null,
   "id": "318ea41b",
   "metadata": {},
   "outputs": [],
   "source": [
    "## Processor/ScriptProcessor\n",
    "### Processor需要先包script進入docker\n",
    "### ScriptProcess可以從local的script進入程式"
   ]
  },
  {
   "cell_type": "code",
   "execution_count": null,
   "id": "d7b0d106",
   "metadata": {},
   "outputs": [],
   "source": [
    "### Method 1 : SageMaker Python SDK"
   ]
  },
  {
   "cell_type": "code",
   "execution_count": null,
   "id": "4082687c-268b-40a8-8886-7186c39d2f48",
   "metadata": {
    "tags": []
   },
   "outputs": [],
   "source": [
    "import sagemaker\n",
    "from sagemaker.processing import ScriptProcessor, ProcessingInput, ProcessingOutput\n",
    "\n",
    "role = \"arn:aws:iam::<accountId>:role/service-role/<roleName>\""
   ]
  },
  {
   "cell_type": "code",
   "execution_count": null,
   "id": "f885c823",
   "metadata": {
    "tags": []
   },
   "outputs": [],
   "source": [
    "input_s3_path = \"s3://<input bucket>/input\"\n",
    "script_s3_path = \"s3://<script bucket>/script\"\n",
    "output_s3_path = \"s3://<output bucket>/output\"\n",
    "\n",
    "processor = ScriptProcessor(image_uri=\"<imageUri>\",\n",
    "                            command=['python3'],\n",
    "                            base_job_name=\"<jobName>\",\n",
    "                            role=role,\n",
    "                            instance_count=1,\n",
    "                            instance_type=\"ml.m5.xlarge\")\n",
    "processor.run(\n",
    "    code=\"../src/start.py\",\n",
    "    inputs=[\n",
    "        ProcessingInput(\n",
    "            source=input_s3_path,\n",
    "            destination='/opt/ml/processing/input'),\n",
    "        ProcessingInput(\n",
    "            source=script_s3_path,\n",
    "            destination='/opt/ml/processing/script')\n",
    "    ],\n",
    "    outputs=[\n",
    "        ProcessingOutput(\n",
    "            source='/opt/ml/processing/output',\n",
    "            destination=output_s3_path)\n",
    "    ],\n",
    ")"
   ]
  },
  {
   "cell_type": "code",
   "execution_count": null,
   "id": "e6820452",
   "metadata": {},
   "outputs": [],
   "source": [
    "### boto3 Python SDK"
   ]
  },
  {
   "cell_type": "code",
   "execution_count": null,
   "id": "d9a696f1",
   "metadata": {},
   "outputs": [],
   "source": [
    "import boto3\n",
    "import os\n",
    "import json\n",
    "import uuid\n",
    "from datetime import datetime\n",
    "\n",
    "s3_client = boto3.client('s3')\n",
    "sagemaker_client = boto3.client('sagemaker')\n",
    "\n",
    "input_bucket = \"input bucket\"\n",
    "script_bucket = \"script bucket\"\n",
    "output_bucket = \"output bucket\"\n",
    "role_arn = \"sagemaker execution role\"\n",
    "model_id = \"anthropic.claude-3-sonnet-20240229-v1:0\"\n",
    "ecr_image_uri = 'ecr image url'\n",
    "\n",
    "# Generate a unique job name using the current timestamp and a UUID\n",
    "timestamp = datetime.utcnow().strftime('%Y%m%d%H%M%S')\n",
    "unique_id = str(uuid.uuid4().hex)\n",
    "job_name = f\"processing-job-{timestamp}-{unique_id}\"\n",
    "\n",
    "response = sagemaker_client.create_processing_job(\n",
    "    ProcessingJobName=job_name,\n",
    "    RoleArn=role_arn,\n",
    "    AppSpecification={\n",
    "        'ImageUri': ecr_image_uri,\n",
    "        'ContainerEntrypoint': ['python3', '/opt/ml/processing/script/start.py'],\n",
    "    },\n",
    "    ProcessingInputs=[\n",
    "        {\n",
    "            'InputName': 'input-data',\n",
    "            'S3Input': {\n",
    "                'S3Uri': f's3://{input_bucket}',\n",
    "                'LocalPath': '/opt/ml/processing/input',\n",
    "                'S3DataType': 'S3Prefix',\n",
    "                'S3InputMode': 'File',\n",
    "                'S3DataDistributionType': 'FullyReplicated',\n",
    "                'S3CompressionType': 'None'\n",
    "            }\n",
    "        },\n",
    "        {\n",
    "            'InputName': 'code',\n",
    "            'S3Input': {\n",
    "                'S3Uri': f's3://{script_bucket}',\n",
    "                'LocalPath': '/opt/ml/processing/script',\n",
    "                'S3DataType': 'S3Prefix',\n",
    "                'S3InputMode': 'File',\n",
    "                'S3DataDistributionType': 'FullyReplicated',\n",
    "                'S3CompressionType': 'None'\n",
    "            }\n",
    "        }\n",
    "    ],\n",
    "    ProcessingOutputConfig={\n",
    "        'Outputs': [\n",
    "            {\n",
    "                'OutputName': 'output-data',\n",
    "                'S3Output': {\n",
    "                    'S3Uri': f's3://{output_bucket}',\n",
    "                    'LocalPath': '/opt/ml/processing/output',\n",
    "                    'S3UploadMode': 'EndOfJob'\n",
    "                 }\n",
    "            }\n",
    "        ]\n",
    "    },\n",
    "    StoppingCondition={\n",
    "        'MaxRuntimeInSeconds': 3600,\n",
    "    },\n",
    "    ProcessingResources={\n",
    "        'ClusterConfig': {\n",
    "            'InstanceCount': 1,\n",
    "            'InstanceType': 'ml.m5.xlarge',\n",
    "            'VolumeSizeInGB': 30\n",
    "        }\n",
    "    },\n",
    "    Environment={\n",
    "        'BEDROCK_MODEL_ID': model_id\n",
    "    }\n",
    ")"
   ]
  },
  {
   "cell_type": "code",
   "execution_count": null,
   "id": "c38f1c6d",
   "metadata": {},
   "outputs": [],
   "source": [
    "### Monitor and clean up tools"
   ]
  },
  {
   "cell_type": "code",
   "execution_count": null,
   "id": "2289465b",
   "metadata": {},
   "outputs": [],
   "source": [
    "import boto3\n",
    "import os\n",
    "import json\n",
    "import time\n",
    "from datetime import datetime, timedelta\n",
    "\n",
    "def is_processing_job_running(sagemaker_client):\n",
    "    response = sagemaker_client.list_processing_jobs(\n",
    "           StatusEquals='InProgress',\n",
    "           MaxResults=1\n",
    "           )\n",
    "    return len(response['ProcessingJobSummaries']) > 0         "
   ]
  },
  {
   "cell_type": "code",
   "execution_count": null,
   "id": "56241454",
   "metadata": {},
   "outputs": [],
   "source": [
    "s3_client = boto3.client('s3')\n",
    "sagemaker_client = boto3.client('sagemaker')\n",
    "\n",
    "is_processing_job_running(sagemaker_client)"
   ]
  },
  {
   "cell_type": "code",
   "execution_count": null,
   "id": "b86bd6ff",
   "metadata": {},
   "outputs": [],
   "source": [
    "from dateutil.tz import tzutc\n",
    "\n",
    "def get_recently_uploaded_files(s3_client, bucket):\n",
    "    now = datetime.now(tzutc())\n",
    "    start_time = now - timedelta(minutes=1)\n",
    "    \n",
    "    response = s3_client.list_objects_v2(\n",
    "         Bucket=bucket,\n",
    "         Prefix='',  # You can specify a prefix if needed\n",
    "    )\n",
    "              \n",
    "    recent_files = []\n",
    "    if 'Contents' in response:\n",
    "        for obj in response['Contents']:\n",
    "            if obj['LastModified'] > start_time:\n",
    "                recent_files.append(obj['Key'])\n",
    "              \n",
    "    return recent_files"
   ]
  },
  {
   "cell_type": "code",
   "execution_count": null,
   "id": "067aaf01",
   "metadata": {},
   "outputs": [],
   "source": [
    "get_recently_uploaded_files(s3_client, input_bucket)"
   ]
  },
  {
   "cell_type": "code",
   "execution_count": null,
   "id": "56a5f3a2",
   "metadata": {},
   "outputs": [],
   "source": [
    "### Clean up"
   ]
  },
  {
   "cell_type": "code",
   "execution_count": null,
   "id": "676c103a",
   "metadata": {},
   "outputs": [],
   "source": [
    "import boto3\n",
    "import os\n",
    "\n",
    "def get_files_without_extension(bucket_name, prefix=''):\n",
    "    s3_client = boto3.client('s3')\n",
    "    files = set()\n",
    "    paginator = s3_client.get_paginator('list_objects_v2')\n",
    "    \n",
    "    for page in paginator.paginate(Bucket=bucket_name, Prefix=prefix):\n",
    "        if 'Contents' in page:\n",
    "            for obj in page['Contents']:\n",
    "                file_name = os.path.splitext(os.path.basename(obj['Key']))[0]\n",
    "                files.add(file_name)\n",
    "    \n",
    "    return files\n",
    "\n",
    "def delete_processed_files(input_bucket, output_bucket, input_prefix='', output_prefix=''):\n",
    "    s3_client = boto3.client('s3')\n",
    "    \n",
    "    # Get files from output bucket\n",
    "    processed_files = get_files_without_extension(output_bucket, output_prefix)\n",
    "    print(processed_files)\n",
    "    \n",
    "    # List and delete files from input bucket\n",
    "    paginator = s3_client.get_paginator('list_objects_v2')\n",
    "    for page in paginator.paginate(Bucket=input_bucket, Prefix=input_prefix):\n",
    "        if 'Contents' in page:\n",
    "            for obj in page['Contents']:\n",
    "                file_name = os.path.splitext(os.path.basename(obj['Key']))[0]\n",
    "                if file_name+'_output' in processed_files:\n",
    "                    print(f\"Deleting {obj['Key']} from input bucket\")\n",
    "                    s3_client.delete_object(Bucket=input_bucket, Key=obj['Key'])\n",
    "\n",
    "def main():\n",
    "    # Configuration\n",
    "    input_bucket_name = 'your input bucket'\n",
    "    output_bucket_name = 'your output bucket'\n",
    "    input_prefix = ''  # Use if your files are in a specific folder\n",
    "    output_prefix = ''  # Use if your output files are in a specific folder\n",
    "\n",
    "    # Execute the cleanup process\n",
    "    delete_processed_files(input_bucket_name, output_bucket_name, input_prefix, output_prefix)\n",
    "\n",
    "if __name__ == \"__main__\":\n",
    "    main()"
   ]
  },
  {
   "cell_type": "code",
   "execution_count": null,
   "id": "ed5d1654",
   "metadata": {},
   "outputs": [],
   "source": []
  }
 ],
 "metadata": {
  "availableInstances": [
   {
    "_defaultOrder": 0,
    "_isFastLaunch": true,
    "category": "General purpose",
    "gpuNum": 0,
    "hideHardwareSpecs": false,
    "memoryGiB": 4,
    "name": "ml.t3.medium",
    "vcpuNum": 2
   },
   {
    "_defaultOrder": 1,
    "_isFastLaunch": false,
    "category": "General purpose",
    "gpuNum": 0,
    "hideHardwareSpecs": false,
    "memoryGiB": 8,
    "name": "ml.t3.large",
    "vcpuNum": 2
   },
   {
    "_defaultOrder": 2,
    "_isFastLaunch": false,
    "category": "General purpose",
    "gpuNum": 0,
    "hideHardwareSpecs": false,
    "memoryGiB": 16,
    "name": "ml.t3.xlarge",
    "vcpuNum": 4
   },
   {
    "_defaultOrder": 3,
    "_isFastLaunch": false,
    "category": "General purpose",
    "gpuNum": 0,
    "hideHardwareSpecs": false,
    "memoryGiB": 32,
    "name": "ml.t3.2xlarge",
    "vcpuNum": 8
   },
   {
    "_defaultOrder": 4,
    "_isFastLaunch": true,
    "category": "General purpose",
    "gpuNum": 0,
    "hideHardwareSpecs": false,
    "memoryGiB": 8,
    "name": "ml.m5.large",
    "vcpuNum": 2
   },
   {
    "_defaultOrder": 5,
    "_isFastLaunch": false,
    "category": "General purpose",
    "gpuNum": 0,
    "hideHardwareSpecs": false,
    "memoryGiB": 16,
    "name": "ml.m5.xlarge",
    "vcpuNum": 4
   },
   {
    "_defaultOrder": 6,
    "_isFastLaunch": false,
    "category": "General purpose",
    "gpuNum": 0,
    "hideHardwareSpecs": false,
    "memoryGiB": 32,
    "name": "ml.m5.2xlarge",
    "vcpuNum": 8
   },
   {
    "_defaultOrder": 7,
    "_isFastLaunch": false,
    "category": "General purpose",
    "gpuNum": 0,
    "hideHardwareSpecs": false,
    "memoryGiB": 64,
    "name": "ml.m5.4xlarge",
    "vcpuNum": 16
   },
   {
    "_defaultOrder": 8,
    "_isFastLaunch": false,
    "category": "General purpose",
    "gpuNum": 0,
    "hideHardwareSpecs": false,
    "memoryGiB": 128,
    "name": "ml.m5.8xlarge",
    "vcpuNum": 32
   },
   {
    "_defaultOrder": 9,
    "_isFastLaunch": false,
    "category": "General purpose",
    "gpuNum": 0,
    "hideHardwareSpecs": false,
    "memoryGiB": 192,
    "name": "ml.m5.12xlarge",
    "vcpuNum": 48
   },
   {
    "_defaultOrder": 10,
    "_isFastLaunch": false,
    "category": "General purpose",
    "gpuNum": 0,
    "hideHardwareSpecs": false,
    "memoryGiB": 256,
    "name": "ml.m5.16xlarge",
    "vcpuNum": 64
   },
   {
    "_defaultOrder": 11,
    "_isFastLaunch": false,
    "category": "General purpose",
    "gpuNum": 0,
    "hideHardwareSpecs": false,
    "memoryGiB": 384,
    "name": "ml.m5.24xlarge",
    "vcpuNum": 96
   },
   {
    "_defaultOrder": 12,
    "_isFastLaunch": false,
    "category": "General purpose",
    "gpuNum": 0,
    "hideHardwareSpecs": false,
    "memoryGiB": 8,
    "name": "ml.m5d.large",
    "vcpuNum": 2
   },
   {
    "_defaultOrder": 13,
    "_isFastLaunch": false,
    "category": "General purpose",
    "gpuNum": 0,
    "hideHardwareSpecs": false,
    "memoryGiB": 16,
    "name": "ml.m5d.xlarge",
    "vcpuNum": 4
   },
   {
    "_defaultOrder": 14,
    "_isFastLaunch": false,
    "category": "General purpose",
    "gpuNum": 0,
    "hideHardwareSpecs": false,
    "memoryGiB": 32,
    "name": "ml.m5d.2xlarge",
    "vcpuNum": 8
   },
   {
    "_defaultOrder": 15,
    "_isFastLaunch": false,
    "category": "General purpose",
    "gpuNum": 0,
    "hideHardwareSpecs": false,
    "memoryGiB": 64,
    "name": "ml.m5d.4xlarge",
    "vcpuNum": 16
   },
   {
    "_defaultOrder": 16,
    "_isFastLaunch": false,
    "category": "General purpose",
    "gpuNum": 0,
    "hideHardwareSpecs": false,
    "memoryGiB": 128,
    "name": "ml.m5d.8xlarge",
    "vcpuNum": 32
   },
   {
    "_defaultOrder": 17,
    "_isFastLaunch": false,
    "category": "General purpose",
    "gpuNum": 0,
    "hideHardwareSpecs": false,
    "memoryGiB": 192,
    "name": "ml.m5d.12xlarge",
    "vcpuNum": 48
   },
   {
    "_defaultOrder": 18,
    "_isFastLaunch": false,
    "category": "General purpose",
    "gpuNum": 0,
    "hideHardwareSpecs": false,
    "memoryGiB": 256,
    "name": "ml.m5d.16xlarge",
    "vcpuNum": 64
   },
   {
    "_defaultOrder": 19,
    "_isFastLaunch": false,
    "category": "General purpose",
    "gpuNum": 0,
    "hideHardwareSpecs": false,
    "memoryGiB": 384,
    "name": "ml.m5d.24xlarge",
    "vcpuNum": 96
   },
   {
    "_defaultOrder": 20,
    "_isFastLaunch": false,
    "category": "General purpose",
    "gpuNum": 0,
    "hideHardwareSpecs": true,
    "memoryGiB": 0,
    "name": "ml.geospatial.interactive",
    "supportedImageNames": [
     "sagemaker-geospatial-v1-0"
    ],
    "vcpuNum": 0
   },
   {
    "_defaultOrder": 21,
    "_isFastLaunch": true,
    "category": "Compute optimized",
    "gpuNum": 0,
    "hideHardwareSpecs": false,
    "memoryGiB": 4,
    "name": "ml.c5.large",
    "vcpuNum": 2
   },
   {
    "_defaultOrder": 22,
    "_isFastLaunch": false,
    "category": "Compute optimized",
    "gpuNum": 0,
    "hideHardwareSpecs": false,
    "memoryGiB": 8,
    "name": "ml.c5.xlarge",
    "vcpuNum": 4
   },
   {
    "_defaultOrder": 23,
    "_isFastLaunch": false,
    "category": "Compute optimized",
    "gpuNum": 0,
    "hideHardwareSpecs": false,
    "memoryGiB": 16,
    "name": "ml.c5.2xlarge",
    "vcpuNum": 8
   },
   {
    "_defaultOrder": 24,
    "_isFastLaunch": false,
    "category": "Compute optimized",
    "gpuNum": 0,
    "hideHardwareSpecs": false,
    "memoryGiB": 32,
    "name": "ml.c5.4xlarge",
    "vcpuNum": 16
   },
   {
    "_defaultOrder": 25,
    "_isFastLaunch": false,
    "category": "Compute optimized",
    "gpuNum": 0,
    "hideHardwareSpecs": false,
    "memoryGiB": 72,
    "name": "ml.c5.9xlarge",
    "vcpuNum": 36
   },
   {
    "_defaultOrder": 26,
    "_isFastLaunch": false,
    "category": "Compute optimized",
    "gpuNum": 0,
    "hideHardwareSpecs": false,
    "memoryGiB": 96,
    "name": "ml.c5.12xlarge",
    "vcpuNum": 48
   },
   {
    "_defaultOrder": 27,
    "_isFastLaunch": false,
    "category": "Compute optimized",
    "gpuNum": 0,
    "hideHardwareSpecs": false,
    "memoryGiB": 144,
    "name": "ml.c5.18xlarge",
    "vcpuNum": 72
   },
   {
    "_defaultOrder": 28,
    "_isFastLaunch": false,
    "category": "Compute optimized",
    "gpuNum": 0,
    "hideHardwareSpecs": false,
    "memoryGiB": 192,
    "name": "ml.c5.24xlarge",
    "vcpuNum": 96
   },
   {
    "_defaultOrder": 29,
    "_isFastLaunch": true,
    "category": "Accelerated computing",
    "gpuNum": 1,
    "hideHardwareSpecs": false,
    "memoryGiB": 16,
    "name": "ml.g4dn.xlarge",
    "vcpuNum": 4
   },
   {
    "_defaultOrder": 30,
    "_isFastLaunch": false,
    "category": "Accelerated computing",
    "gpuNum": 1,
    "hideHardwareSpecs": false,
    "memoryGiB": 32,
    "name": "ml.g4dn.2xlarge",
    "vcpuNum": 8
   },
   {
    "_defaultOrder": 31,
    "_isFastLaunch": false,
    "category": "Accelerated computing",
    "gpuNum": 1,
    "hideHardwareSpecs": false,
    "memoryGiB": 64,
    "name": "ml.g4dn.4xlarge",
    "vcpuNum": 16
   },
   {
    "_defaultOrder": 32,
    "_isFastLaunch": false,
    "category": "Accelerated computing",
    "gpuNum": 1,
    "hideHardwareSpecs": false,
    "memoryGiB": 128,
    "name": "ml.g4dn.8xlarge",
    "vcpuNum": 32
   },
   {
    "_defaultOrder": 33,
    "_isFastLaunch": false,
    "category": "Accelerated computing",
    "gpuNum": 4,
    "hideHardwareSpecs": false,
    "memoryGiB": 192,
    "name": "ml.g4dn.12xlarge",
    "vcpuNum": 48
   },
   {
    "_defaultOrder": 34,
    "_isFastLaunch": false,
    "category": "Accelerated computing",
    "gpuNum": 1,
    "hideHardwareSpecs": false,
    "memoryGiB": 256,
    "name": "ml.g4dn.16xlarge",
    "vcpuNum": 64
   },
   {
    "_defaultOrder": 35,
    "_isFastLaunch": false,
    "category": "Accelerated computing",
    "gpuNum": 1,
    "hideHardwareSpecs": false,
    "memoryGiB": 61,
    "name": "ml.p3.2xlarge",
    "vcpuNum": 8
   },
   {
    "_defaultOrder": 36,
    "_isFastLaunch": false,
    "category": "Accelerated computing",
    "gpuNum": 4,
    "hideHardwareSpecs": false,
    "memoryGiB": 244,
    "name": "ml.p3.8xlarge",
    "vcpuNum": 32
   },
   {
    "_defaultOrder": 37,
    "_isFastLaunch": false,
    "category": "Accelerated computing",
    "gpuNum": 8,
    "hideHardwareSpecs": false,
    "memoryGiB": 488,
    "name": "ml.p3.16xlarge",
    "vcpuNum": 64
   },
   {
    "_defaultOrder": 38,
    "_isFastLaunch": false,
    "category": "Accelerated computing",
    "gpuNum": 8,
    "hideHardwareSpecs": false,
    "memoryGiB": 768,
    "name": "ml.p3dn.24xlarge",
    "vcpuNum": 96
   },
   {
    "_defaultOrder": 39,
    "_isFastLaunch": false,
    "category": "Memory Optimized",
    "gpuNum": 0,
    "hideHardwareSpecs": false,
    "memoryGiB": 16,
    "name": "ml.r5.large",
    "vcpuNum": 2
   },
   {
    "_defaultOrder": 40,
    "_isFastLaunch": false,
    "category": "Memory Optimized",
    "gpuNum": 0,
    "hideHardwareSpecs": false,
    "memoryGiB": 32,
    "name": "ml.r5.xlarge",
    "vcpuNum": 4
   },
   {
    "_defaultOrder": 41,
    "_isFastLaunch": false,
    "category": "Memory Optimized",
    "gpuNum": 0,
    "hideHardwareSpecs": false,
    "memoryGiB": 64,
    "name": "ml.r5.2xlarge",
    "vcpuNum": 8
   },
   {
    "_defaultOrder": 42,
    "_isFastLaunch": false,
    "category": "Memory Optimized",
    "gpuNum": 0,
    "hideHardwareSpecs": false,
    "memoryGiB": 128,
    "name": "ml.r5.4xlarge",
    "vcpuNum": 16
   },
   {
    "_defaultOrder": 43,
    "_isFastLaunch": false,
    "category": "Memory Optimized",
    "gpuNum": 0,
    "hideHardwareSpecs": false,
    "memoryGiB": 256,
    "name": "ml.r5.8xlarge",
    "vcpuNum": 32
   },
   {
    "_defaultOrder": 44,
    "_isFastLaunch": false,
    "category": "Memory Optimized",
    "gpuNum": 0,
    "hideHardwareSpecs": false,
    "memoryGiB": 384,
    "name": "ml.r5.12xlarge",
    "vcpuNum": 48
   },
   {
    "_defaultOrder": 45,
    "_isFastLaunch": false,
    "category": "Memory Optimized",
    "gpuNum": 0,
    "hideHardwareSpecs": false,
    "memoryGiB": 512,
    "name": "ml.r5.16xlarge",
    "vcpuNum": 64
   },
   {
    "_defaultOrder": 46,
    "_isFastLaunch": false,
    "category": "Memory Optimized",
    "gpuNum": 0,
    "hideHardwareSpecs": false,
    "memoryGiB": 768,
    "name": "ml.r5.24xlarge",
    "vcpuNum": 96
   },
   {
    "_defaultOrder": 47,
    "_isFastLaunch": false,
    "category": "Accelerated computing",
    "gpuNum": 1,
    "hideHardwareSpecs": false,
    "memoryGiB": 16,
    "name": "ml.g5.xlarge",
    "vcpuNum": 4
   },
   {
    "_defaultOrder": 48,
    "_isFastLaunch": false,
    "category": "Accelerated computing",
    "gpuNum": 1,
    "hideHardwareSpecs": false,
    "memoryGiB": 32,
    "name": "ml.g5.2xlarge",
    "vcpuNum": 8
   },
   {
    "_defaultOrder": 49,
    "_isFastLaunch": false,
    "category": "Accelerated computing",
    "gpuNum": 1,
    "hideHardwareSpecs": false,
    "memoryGiB": 64,
    "name": "ml.g5.4xlarge",
    "vcpuNum": 16
   },
   {
    "_defaultOrder": 50,
    "_isFastLaunch": false,
    "category": "Accelerated computing",
    "gpuNum": 1,
    "hideHardwareSpecs": false,
    "memoryGiB": 128,
    "name": "ml.g5.8xlarge",
    "vcpuNum": 32
   },
   {
    "_defaultOrder": 51,
    "_isFastLaunch": false,
    "category": "Accelerated computing",
    "gpuNum": 1,
    "hideHardwareSpecs": false,
    "memoryGiB": 256,
    "name": "ml.g5.16xlarge",
    "vcpuNum": 64
   },
   {
    "_defaultOrder": 52,
    "_isFastLaunch": false,
    "category": "Accelerated computing",
    "gpuNum": 4,
    "hideHardwareSpecs": false,
    "memoryGiB": 192,
    "name": "ml.g5.12xlarge",
    "vcpuNum": 48
   },
   {
    "_defaultOrder": 53,
    "_isFastLaunch": false,
    "category": "Accelerated computing",
    "gpuNum": 4,
    "hideHardwareSpecs": false,
    "memoryGiB": 384,
    "name": "ml.g5.24xlarge",
    "vcpuNum": 96
   },
   {
    "_defaultOrder": 54,
    "_isFastLaunch": false,
    "category": "Accelerated computing",
    "gpuNum": 8,
    "hideHardwareSpecs": false,
    "memoryGiB": 768,
    "name": "ml.g5.48xlarge",
    "vcpuNum": 192
   },
   {
    "_defaultOrder": 55,
    "_isFastLaunch": false,
    "category": "Accelerated computing",
    "gpuNum": 8,
    "hideHardwareSpecs": false,
    "memoryGiB": 1152,
    "name": "ml.p4d.24xlarge",
    "vcpuNum": 96
   },
   {
    "_defaultOrder": 56,
    "_isFastLaunch": false,
    "category": "Accelerated computing",
    "gpuNum": 8,
    "hideHardwareSpecs": false,
    "memoryGiB": 1152,
    "name": "ml.p4de.24xlarge",
    "vcpuNum": 96
   },
   {
    "_defaultOrder": 57,
    "_isFastLaunch": false,
    "category": "Accelerated computing",
    "gpuNum": 0,
    "hideHardwareSpecs": false,
    "memoryGiB": 32,
    "name": "ml.trn1.2xlarge",
    "vcpuNum": 8
   },
   {
    "_defaultOrder": 58,
    "_isFastLaunch": false,
    "category": "Accelerated computing",
    "gpuNum": 0,
    "hideHardwareSpecs": false,
    "memoryGiB": 512,
    "name": "ml.trn1.32xlarge",
    "vcpuNum": 128
   },
   {
    "_defaultOrder": 59,
    "_isFastLaunch": false,
    "category": "Accelerated computing",
    "gpuNum": 0,
    "hideHardwareSpecs": false,
    "memoryGiB": 512,
    "name": "ml.trn1n.32xlarge",
    "vcpuNum": 128
   }
  ],
  "instance_type": "ml.m5.large",
  "kernelspec": {
   "display_name": "Python 3",
   "language": "python",
   "name": "python3"
  },
  "language_info": {
   "codemirror_mode": {
    "name": "ipython",
    "version": 3
   },
   "file_extension": ".py",
   "mimetype": "text/x-python",
   "name": "python",
   "nbconvert_exporter": "python",
   "pygments_lexer": "ipython3",
   "version": "3.10.13"
  }
 },
 "nbformat": 4,
 "nbformat_minor": 5
}
